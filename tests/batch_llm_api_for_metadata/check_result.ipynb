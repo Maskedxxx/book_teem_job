{
 "cells": [
  {
   "cell_type": "code",
   "execution_count": 1,
   "metadata": {},
   "outputs": [],
   "source": [
    "import os\n",
    "import sys\n",
    "\n",
    "os.chdir('/Users/mask/Documents/Проеты_2025/book_team_job')\n",
    "# Получаем текущую рабочую директорию\n",
    "current_dir = os.getcwd()\n",
    "\n",
    "# Добавляем родительскую директорию текущей директории в путь Python\n",
    "parent_dir = os.path.dirname(current_dir)\n",
    "sys.path.insert(0, parent_dir)\n"
   ]
  },
  {
   "cell_type": "code",
   "execution_count": 2,
   "metadata": {},
   "outputs": [],
   "source": [
    "from tests.batch_llm_api_for_metadata.check_results import check_and_save_results"
   ]
  },
  {
   "cell_type": "code",
   "execution_count": 18,
   "metadata": {},
   "outputs": [
    {
     "name": "stdout",
     "output_type": "stream",
     "text": [
      "Текущий статус: completed\n",
      "Результаты сохранены в batch_results.json\n",
      "Обработано страниц: 144\n",
      "\n",
      "Полная информация о batch:\n",
      "Status: completed\n",
      "Errors: None\n",
      "Request counts: BatchRequestCounts(completed=144, failed=0, total=144)\n"
     ]
    }
   ],
   "source": [
    "status, batch = check_and_save_results()\n",
    "print(\"\\nПолная информация о batch:\")\n",
    "print(f\"Status: {status}\")\n",
    "print(f\"Errors: {batch.errors}\")\n",
    "print(f\"Request counts: {batch.request_counts}\")"
   ]
  },
  {
   "cell_type": "code",
   "execution_count": null,
   "metadata": {},
   "outputs": [],
   "source": []
  }
 ],
 "metadata": {
  "kernelspec": {
   "display_name": "Python (semantic_venv)",
   "language": "python",
   "name": "semantic_venv"
  },
  "language_info": {
   "codemirror_mode": {
    "name": "ipython",
    "version": 3
   },
   "file_extension": ".py",
   "mimetype": "text/x-python",
   "name": "python",
   "nbconvert_exporter": "python",
   "pygments_lexer": "ipython3",
   "version": "3.12.8"
  }
 },
 "nbformat": 4,
 "nbformat_minor": 2
}
